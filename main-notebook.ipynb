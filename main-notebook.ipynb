{
 "cells": [
  {
   "cell_type": "markdown",
   "metadata": {},
   "source": [
    "# clj-leaflet\n",
    "\n",
    "An exploration of ipyleaflet compatible models for clojupyter kernel.\n",
    "\n",
    "## Setup\n",
    "To generate the models, this notebook requires a clojupyter kernel with ipywidgets support. Compile and install the latest version [feature/ipywidgets](https://github.com/clojupyter/clojupyter/tree/feature/ipywidgets) branch.\n",
    "\n",
    "To view and interact with the models you need to install the jupyter lab/notebook extensions for [ipyleaflet](https://github.com/jupyter-widgets/ipyleaflet) and [ipywidgets](https://github.com/jupyter-widgets/ipywidgets)."
   ]
  },
  {
   "cell_type": "code",
   "execution_count": 1,
   "metadata": {},
   "outputs": [],
   "source": [
    "(require '[clojupyter.widgets.ipywidgets :as ipy])\n",
    "(require '[clojure.data.json :as json])\n",
    "(require '[clojure.java.io :as io])\n",
    "(require '[clojupyter.kernel.comm-atom :as ca])\n",
    "(require '[clojupyter.state :as st])\n",
    "(require '[clojupyter.util-actions :as u])\n",
    "(require '[clojure.repl :refer :all])\n",
    "(require '[clojure.pprint :refer [pprint]])\n",
    "(require '[camel-snake-kebab.core :as csk]);"
   ]
  },
  {
   "cell_type": "markdown",
   "metadata": {},
   "source": [
    "Hack to fix an incompatibility between latest version of jupyterlab manager and jupyter-leaflet.\n",
    "In order to use an older version of jupyterlab manager we need to enforce the generated widget versions to an earlier version."
   ]
  },
  {
   "cell_type": "code",
   "execution_count": 2,
   "metadata": {},
   "outputs": [
    {
     "data": {
      "text/plain": [
       "#'user/old"
      ]
     },
     "execution_count": 2,
     "metadata": {},
     "output_type": "execute_result"
    }
   ],
   "source": [
    "(defn old\n",
    "  ([constr] (old constr {}))\n",
    "  ([constr state] (constr (merge state {:_model_module_version \"1.5.0\" :_view_module_version \"1.5.0\"}))))\n",
    "#_(defn old\n",
    "  ([constr] (old constr {}))\n",
    "  ([constr state] (constr (merge state {}))))"
   ]
  },
  {
   "cell_type": "markdown",
   "metadata": {},
   "source": [
    "Helper macro useful to attach widgets to global vars and show them in a single command."
   ]
  },
  {
   "cell_type": "code",
   "execution_count": 3,
   "metadata": {},
   "outputs": [
    {
     "data": {
      "text/plain": [
       "#'user/def-show"
      ]
     },
     "execution_count": 3,
     "metadata": {},
     "output_type": "execute_result"
    }
   ],
   "source": [
    "(defmacro def-show\n",
    "  \"Like def, but returns `init` if one was passed along.\"  \n",
    "  ([symb]             `(def ~symb))\n",
    "  ([symb init]         `(do (def ~symb ~init) ~symb))\n",
    "  ([symb docstr init] `(do (def ~symb ~docstr ~init) ~symb)))"
   ]
  },
  {
   "cell_type": "code",
   "execution_count": null,
   "metadata": {},
   "outputs": [],
   "source": []
  },
  {
   "cell_type": "code",
   "execution_count": null,
   "metadata": {},
   "outputs": [],
   "source": []
  },
  {
   "cell_type": "markdown",
   "metadata": {},
   "source": [
    "----\n",
    "## Leaflet Factory"
   ]
  },
  {
   "cell_type": "markdown",
   "metadata": {},
   "source": [
    "### Colors\n",
    "Choropleth models in python use an extenal dependency to compute colors from values.\n",
    "We define single-hue-linear-fn at the bottom of this section to achieve the same goal."
   ]
  },
  {
   "cell_type": "code",
   "execution_count": 4,
   "metadata": {},
   "outputs": [
    {
     "data": {
      "text/plain": [
       "#'user/abs"
      ]
     },
     "execution_count": 4,
     "metadata": {},
     "output_type": "execute_result"
    }
   ],
   "source": [
    "(defn abs\n",
    "  [x]\n",
    "  (if (neg? x) (- x) x))"
   ]
  },
  {
   "cell_type": "code",
   "execution_count": 5,
   "metadata": {},
   "outputs": [
    {
     "data": {
      "text/plain": [
       "#'user/str->rgb"
      ]
     },
     "execution_count": 5,
     "metadata": {},
     "output_type": "execute_result"
    }
   ],
   "source": [
    "(defn str->rgb\n",
    "  \"Converts a string colour to a three int rbg tuple\"\n",
    "  [s]\n",
    "  (->> (rest s)\n",
    "       (partition 2)\n",
    "       (map (partial reduce str))\n",
    "       (map #(Integer/parseInt % 16))))"
   ]
  },
  {
   "cell_type": "code",
   "execution_count": 6,
   "metadata": {},
   "outputs": [
    {
     "data": {
      "text/plain": [
       "#'user/rgb->hsv"
      ]
     },
     "execution_count": 6,
     "metadata": {},
     "output_type": "execute_result"
    }
   ],
   "source": [
    "(defn rgb->hsv\n",
    "  [clr]\n",
    "  (let [[r g b] (map #(/ % 255) clr)\n",
    "        c-max (max r g b)\n",
    "        c-min (min r g b)\n",
    "        dif (- c-max c-min)\n",
    "        v c-max\n",
    "        s (if (zero? dif) 0 (/ dif c-max))\n",
    "        h (if (zero? dif)\n",
    "            0\n",
    "            (condp = c-max\n",
    "              r (* 60 (mod (/ (- g b) dif) 6))\n",
    "              g (* 60 (+ 2 (/ (- b r) dif)))\n",
    "              b (* 60 (+ 4 (/ (- r g) dif)))))]\n",
    "    (map float (list h s v))))"
   ]
  },
  {
   "cell_type": "code",
   "execution_count": 7,
   "metadata": {},
   "outputs": [
    {
     "data": {
      "text/plain": [
       "#'user/hsv->rgb"
      ]
     },
     "execution_count": 7,
     "metadata": {},
     "output_type": "execute_result"
    }
   ],
   "source": [
    "(defn hsv->rgb\n",
    "  [[h s v]]\n",
    "  {:pre [(<= 0 h 360)\n",
    "         (<= 0 s 1)\n",
    "         (<= 0 v 1)]}\n",
    "  (let [c (* v s)\n",
    "        q (/ h 60)\n",
    "        x (* c (- 1 (abs (dec (mod q 2)))))\n",
    "        [r1 g1 b1] (condp #(<= (first %1) %2 (second %1)) q\n",
    "                     [0 1] [c x 0]\n",
    "                     [1 2] [x c 0]\n",
    "                     [2 3] [0 c x]\n",
    "                     [3 4] [0 x c]\n",
    "                     [4 5] [x 0 c]\n",
    "                     [5 6] [c 0 x]\n",
    "                     :else [0 0 0])\n",
    "        m (- v c)]\n",
    "    (map (comp int (partial * 255) (partial + m)) [r1 g1 b1])))"
   ]
  },
  {
   "cell_type": "code",
   "execution_count": 8,
   "metadata": {},
   "outputs": [
    {
     "data": {
      "text/plain": [
       "#'user/rgb->str"
      ]
     },
     "execution_count": 8,
     "metadata": {},
     "output_type": "execute_result"
    }
   ],
   "source": [
    "(defn rgb->str\n",
    "  [[r g b]]\n",
    "  {:pre [(every? int? [r g b])\n",
    "         (every? #(<= 0 % 255) [r g b])]}\n",
    "  (format \"#%02X%02X%02X\" r g b))"
   ]
  },
  {
   "cell_type": "code",
   "execution_count": 9,
   "metadata": {},
   "outputs": [
    {
     "data": {
      "text/plain": [
       "#'user/single-hue-linear-fn"
      ]
     },
     "execution_count": 9,
     "metadata": {},
     "output_type": "execute_result"
    }
   ],
   "source": [
    "(defn single-hue-linear-fn\n",
    "  ([v-min v-max] (single-hue-linear-fn v-min v-max \"#BE481F\"))\n",
    "  ([v-min v-max color]\n",
    "   (fn [x]\n",
    "     {:pre [(<= v-min x v-max)\n",
    "            (< v-min v-max)]}\n",
    "     (let [[h _ v] (-> color str->rgb rgb->hsv)]\n",
    "       (-> (list h (float (/ (- x v-min) (- v-max v-min))) v)\n",
    "           hsv->rgb\n",
    "           rgb->str)))))"
   ]
  },
  {
   "cell_type": "markdown",
   "metadata": {},
   "source": [
    "#### Color transform test"
   ]
  },
  {
   "cell_type": "code",
   "execution_count": 10,
   "metadata": {},
   "outputs": [
    {
     "data": {
      "application/vnd.jupyter.widget-view+json": {
       "model_id": "3a4e71d6-029e-43c8-b07d-cf49bf766f8f",
       "version_major": 2,
       "version_minor": 0
      },
      "text/plain": [
       "[3a4e71d6-029e-43c8-b07d-cf49bf766f8f]=VBoxModel"
      ]
     },
     "execution_count": 10,
     "metadata": {},
     "output_type": "execute_result"
    }
   ],
   "source": [
    "(let [pc (old ipy/color-picker)\n",
    "      lab (old ipy/label {:value (:value @pc)})\n",
    "      _ (.watch pc :on-change-value (fn [_ _ {o-val :value} {n-val :value}]\n",
    "                                      (when (not= o-val n-val)\n",
    "                                        (swap! lab assoc :value (-> n-val str->rgb rgb->hsv pr-str)))))]\n",
    "  (old ipy/v-box {:children [pc lab]}))  "
   ]
  },
  {
   "cell_type": "markdown",
   "metadata": {},
   "source": [
    "### Models"
   ]
  },
  {
   "cell_type": "code",
   "execution_count": 11,
   "metadata": {},
   "outputs": [
    {
     "data": {
      "text/plain": [
       "#'user/SPECS"
      ]
     },
     "execution_count": 11,
     "metadata": {},
     "output_type": "execute_result"
    }
   ],
   "source": [
    "(def SPECS (-> \"resources/leaflet-schema.min.json\"\n",
    "               #_io/resource\n",
    "               slurp\n",
    "               json/read-str))"
   ]
  },
  {
   "cell_type": "code",
   "execution_count": 12,
   "metadata": {},
   "outputs": [
    {
     "data": {
      "text/plain": [
       "#'user/def-widget"
      ]
     },
     "execution_count": 12,
     "metadata": {},
     "output_type": "execute_result"
    }
   ],
   "source": [
    "(defn def-widget\n",
    "  [{attributes \"attributes\"}]\n",
    "  (let [all-attr (->> attributes (map #(get % \"name\")) (map keyword) (filterv (partial not= :layers)))]\n",
    "    (reduce merge\n",
    "      (for [{name \"name\" default \"default\" type \"type\"} attributes]\n",
    "        {(keyword name) (cond\n",
    "                          (= name \"options\") all-attr\n",
    "                          (= type \"reference\") nil\n",
    "                          :else default)}))))"
   ]
  },
  {
   "cell_type": "markdown",
   "metadata": {},
   "source": [
    "---\n",
    "## Model Tests"
   ]
  },
  {
   "cell_type": "markdown",
   "metadata": {},
   "source": [
    "We import the base maps json file, flatten it and transform its keys to keywords to make it easier to work with.\n",
    "The original python dict `{\"open-street-map\" {\"mapnick\" {\"base-map dict\"}}}` becomes `{:open-street-map-mapnick {\"base-map dict\"}}`"
   ]
  },
  {
   "cell_type": "code",
   "execution_count": 13,
   "metadata": {},
   "outputs": [
    {
     "data": {
      "text/plain": [
       "#'user/BASE-MAPS"
      ]
     },
     "execution_count": 13,
     "metadata": {},
     "output_type": "execute_result"
    }
   ],
   "source": [
    "(def BASE-MAPS\n",
    "  (let [base-maps (json/read-str (slurp \"./resources/basemaps.json\"))\n",
    "        k-maps (for [[outer-key v] base-maps]\n",
    "                 (if (contains? v \"name\")\n",
    "                   {(csk/->kebab-case-keyword outer-key) (clojure.walk/keywordize-keys v)}\n",
    "                   (reduce merge\n",
    "                           (for [[inner-key vv] v]\n",
    "                             {(csk/->kebab-case-keyword (str outer-key inner-key)) (clojure.walk/keywordize-keys vv)}))))]\n",
    "    (reduce merge k-maps)))"
   ]
  },
  {
   "cell_type": "markdown",
   "metadata": {},
   "source": [
    "**Note:** The base-map hash-map :url must be formatted with a date string to generate the right value."
   ]
  },
  {
   "cell_type": "code",
   "execution_count": 14,
   "metadata": {},
   "outputs": [
    {
     "data": {
      "text/plain": [
       "#'user/attribution-control"
      ]
     },
     "execution_count": 14,
     "metadata": {},
     "output_type": "execute_result"
    }
   ],
   "source": [
    "(declare tile-layer zoom-control attribution-control)"
   ]
  },
  {
   "cell_type": "code",
   "execution_count": 15,
   "metadata": {},
   "outputs": [
    {
     "data": {
      "text/plain": [
       "#'user/make-widget"
      ]
     },
     "execution_count": 15,
     "metadata": {},
     "output_type": "execute_result"
    }
   ],
   "source": [
    "(defn make-widget\n",
    "  [spec]\n",
    "  (fn constructor\n",
    "    [& args]\n",
    "    (let [d-state (def-widget spec)\n",
    "          state (merge d-state (apply hash-map args))\n",
    "          target \"jupyter.widget\"\n",
    "          {jup :jup req-msg :req-message} (st/current-context)\n",
    "          id (u/uuid)\n",
    "          v-keys (set (keys d-state))]\n",
    "      (if (= (get spec \"name\") \"map\")\n",
    "        (let [{:keys [basemap modisdate extra-controls?]\n",
    "               :or {basemap :open-street-map-mapnik\n",
    "                    modisdate (:modisdate d-state)\n",
    "                    extra-controls? true}} args\n",
    "              state (assoc state :basemap basemap :extra-controls? extra-controls?)]\n",
    "          (if basemap\n",
    "            (let [{:keys [url] :as bm} (get BASE-MAPS basemap)\n",
    "                  date (if (= \"yesterday\" modisdate)\n",
    "                         (doto (java.time.LocalDate/now)\n",
    "                               (.minusDays 1)\n",
    "                               (.toString))\n",
    "                         modisdate)\n",
    "                  bm_ (apply tile-layer (reduce-kv (fn [acc k v]\n",
    "                                                     (concat acc [k (if (and (= k :url)\n",
    "                                                                        (clojure.string/includes? v \"%s\"))\n",
    "                                                                      (format v date)\n",
    "                                                                      v)]))\n",
    "                                               []\n",
    "                                               bm))\n",
    "                  state (if extra-controls?\n",
    "                          (update state :controls (comp vec concat) [(zoom-control) (attribution-control :position \"bottomright\")])\n",
    "                          state)]\n",
    "              (ca/create-and-insert jup req-msg target id v-keys (update state :layers #(into [bm_] %))))\n",
    "            (ca/create-and-insert jup req-msg target id v-keys (if extra-controls?\n",
    "                                                                 (update state :controls (comp vec concat) [(zoom-control) (attribution-control :position \"bottomright\")])\n",
    "                                                                 state))))  \n",
    "              ;; At this point we have the basemap widget\n",
    "              ;; We might want to add by default: zoom-control & attribution control\n",
    "              ;; We might want to add default map-style widgets\n",
    "              ;; Are we going to watch the `:modisdate` & `:basemap` attributes to replace the base map layer?\n",
    "        (ca/create-and-insert jup req-msg target id v-keys state)))))"
   ]
  },
  {
   "cell_type": "code",
   "execution_count": null,
   "metadata": {},
   "outputs": [],
   "source": []
  },
  {
   "cell_type": "code",
   "execution_count": 16,
   "metadata": {},
   "outputs": [
    {
     "data": {
      "text/plain": [
       "(#'user/ant-path #'user/attribution-control #'user/awesome-icon #'user/choropleth #'user/circle #'user/circle-marker #'user/control #'user/draw-control #'user/feature-group #'user/full-screen-control #'user/geo-data #'user/geo-json #'user/heatmap #'user/icon #'user/image-overlay #'user/layer #'user/layer-group #'user/layers-control #'user/legend-control #'user/local-tile-layer #'user/Map #'user/map-style #'user/marker #'user/marker-cluster #'user/measure-control #'user/path #'user/polygon #'user/polyline #'user/popup #'user/raster-layer #'user/rectangle #'user/scale-control #'user/search-control #'user/split-map-control #'user/tile-layer #'user/ui-layer #'user/vector-layer #'user/vector-tile-layer #'user/video-overlay #'user/widget-control #'user/wms-layer #'user/zoom-control #'user/Layout #'user/DOMWidget)"
      ]
     },
     "execution_count": 16,
     "metadata": {},
     "output_type": "execute_result"
    }
   ],
   "source": [
    "(for [{n \"name\" :as spec} SPECS]\n",
    "  (eval `(def ~(if (= n \"map\") 'Map (symbol n)) ~(make-widget spec))))"
   ]
  },
  {
   "cell_type": "code",
   "execution_count": 17,
   "metadata": {},
   "outputs": [
    {
     "data": {
      "text/plain": [
       "#'user/choropleth"
      ]
     },
     "execution_count": 17,
     "metadata": {},
     "output_type": "execute_result"
    }
   ],
   "source": [
    "(defn choropleth\n",
    "  [& {:keys [_data color-fn key-path data] :or {_data {} key-path [:id] data {}} :as args}]\n",
    "  (let [base-color \"#E96622\"\n",
    "        def-color-fn (fn [data]\n",
    "                       (if (empty? (vals data))\n",
    "                         (constantly \"#E96622\")\n",
    "                         (let [v-min (reduce min (vals data))\n",
    "                               v-max (reduce max (vals data))]\n",
    "                           (if (= v-min v-max)\n",
    "                             (constantly \"#E96622\")\n",
    "                             (single-hue-linear-fn v-min v-max \"#E96622\")))))\n",
    "        color-fn (or color-fn def-color-fn)\n",
    "        color-feature (fn [feat data c-fn key-path]\n",
    "                        (let [k (get-in feat key-path)]\n",
    "                          (if-let [v (get data k)]\n",
    "                            (assoc-in feat [:properties :style] {:fillColor (c-fn v) :color \"black\" :weight 0.9})\n",
    "                            feat)))\n",
    "        color-geo-data (fn [{type :type :as geo-data} data c-fn key-path]\n",
    "                        (case type\n",
    "                           \"Feature\" (color-feature geo-data data c-fn key-path)\n",
    "                           \"FeatureCollection\" (update geo-data :features (fn [feat] (mapv #(color-feature % data c-fn key-path) feat)))\n",
    "                           geo-data))\n",
    "        data (clojure.walk/keywordize-keys data)\n",
    "        state (assoc args\n",
    "                :color-fn color-fn\n",
    "                :data (color-geo-data data _data (color-fn _data) key-path)\n",
    "                :_data _data\n",
    "                :key-path key-path)\n",
    "        d-state (def-widget (first (filter (comp (partial = \"choropleth\") #(get % \"name\")) SPECS)))\n",
    "        state (merge d-state state)\n",
    "        w (apply geo-json (reduce concat (list* state)))]\n",
    "    (.watch w :internal-consistency-data\n",
    "      (fn [_ r {o-data :data} {:keys [_data color-fn key-path] n-data :data}]\n",
    "        (when (not= o-data n-data)\n",
    "          (swap! r update :data color-geo-data _data (color-fn _data) key-path))))\n",
    "    (.watch w :internal-consistency-_data\n",
    "      (fn [_ r {o-_data :_data} {:keys [color-fn key-path] n-_data :_data}]\n",
    "        (when (not= o-_data n-_data)\n",
    "          (swap! r update :data color-geo-data n-_data (color-fn n-_data) key-path))))\n",
    "    (.watch w :internal-consistency-key-path\n",
    "      (fn [_ r {o-key-path :key-path} {:keys [data _data color-fn] n-key-path :key-path}]\n",
    "        (when (not= o-key-path n-key-path)\n",
    "          (swap! r update :data color-geo-data _data (color-fn _data) n-key-path))))\n",
    "    (.watch w :internal-consistency-color-fn\n",
    "      (fn [_ r {o-color-fn :color-fn} {:keys [_data key-path] n-color-fn :color-fn}]\n",
    "        (when (not= o-color-fn n-color-fn)\n",
    "          (swap! r update :data color-geo-data _data (n-color-fn _data) key-path))))\n",
    "    (ca/insert w)))    "
   ]
  },
  {
   "cell_type": "markdown",
   "metadata": {},
   "source": [
    "Whatch out for this attribute when building the basemap"
   ]
  },
  {
   "cell_type": "markdown",
   "metadata": {},
   "source": [
    "### Map Controls"
   ]
  },
  {
   "cell_type": "code",
   "execution_count": 18,
   "metadata": {},
   "outputs": [
    {
     "data": {
      "application/vnd.jupyter.widget-view+json": {
       "model_id": "8996acdb-1548-4c28-9905-4c507a418dff",
       "version_major": 2,
       "version_minor": 0
      },
      "text/plain": [
       "[8996acdb-1548-4c28-9905-4c507a418dff]=LeafletMapModel"
      ]
     },
     "execution_count": 18,
     "metadata": {},
     "output_type": "execute_result"
    }
   ],
   "source": [
    "(Map)"
   ]
  },
  {
   "cell_type": "code",
   "execution_count": 19,
   "metadata": {},
   "outputs": [
    {
     "data": {
      "application/vnd.jupyter.widget-view+json": {
       "model_id": "d90e4c38-913e-4000-b9e5-fc46ca4f5f2b",
       "version_major": 2,
       "version_minor": 0
      },
      "text/plain": [
       "[d90e4c38-913e-4000-b9e5-fc46ca4f5f2b]=LeafletMapModel"
      ]
     },
     "execution_count": 19,
     "metadata": {},
     "output_type": "execute_result"
    }
   ],
   "source": [
    "(def-show M0\n",
    "  (let [sel (old ipy/dropdown {:options (->> BASE-MAPS keys (map name) sort vec) :description \"Base Map\"})\n",
    "        b-maps (reduce merge (for [[k v] BASE-MAPS] {k (apply tile-layer (-> v (update :url format \"2020-05-01\") list* flatten))}))\n",
    "        w-ctrl (widget-control :widget sel :position \"topright\")\n",
    "        dm (Map :center [4 112] :zoom 3.6 :scroll_wheel_zoom true :basemap :open-topo-map\n",
    "                :controls [(scale-control :position \"bottomleft\") (full-screen-control) w-ctrl (search-control)])\n",
    "        _ (.watch sel :on-select (fn [_ _ {o-val :value} {n-val :value}]\n",
    "                                   (when (not= o-val n-val)\n",
    "                                     (swap! dm update :layers (comp #(conj % (get b-maps (keyword n-val))) pop)))))]  \n",
    "    dm))"
   ]
  },
  {
   "cell_type": "code",
   "execution_count": 20,
   "metadata": {},
   "outputs": [
    {
     "data": {
      "application/vnd.jupyter.widget-view+json": {
       "model_id": "55281c0a-1684-4444-80e1-ad81c5d3b5c8",
       "version_major": 2,
       "version_minor": 0
      },
      "text/plain": [
       "[55281c0a-1684-4444-80e1-ad81c5d3b5c8]=LeafletMapModel"
      ]
     },
     "execution_count": 20,
     "metadata": {},
     "output_type": "execute_result"
    }
   ],
   "source": [
    "(def-show M1\n",
    "  (let [l0 (apply tile-layer (reduce concat (apply list (:esri-world-imagery BASE-MAPS))))\n",
    "        l1 (apply tile-layer (flatten (apply list (:nasagibs-viirs-earth-at-night-2012 BASE-MAPS))))\n",
    "        sm (split-map-control :left_layer l0 :right_layer l1)\n",
    "        m (Map :controls [sm] :center [46, -35] :zoom 3 :basemap nil)]\n",
    "    m))"
   ]
  },
  {
   "cell_type": "code",
   "execution_count": 21,
   "metadata": {},
   "outputs": [
    {
     "data": {
      "application/vnd.jupyter.widget-view+json": {
       "model_id": "48fcc754-8e7b-49eb-b4c0-e0d3ee5abb39",
       "version_major": 2,
       "version_minor": 0
      },
      "text/plain": [
       "[48fcc754-8e7b-49eb-b4c0-e0d3ee5abb39]=LeafletMapModel"
      ]
     },
     "execution_count": 21,
     "metadata": {},
     "output_type": "execute_result"
    }
   ],
   "source": [
    "(let [dc (draw-control)\n",
    "      mc (measure-control :primary_length_unit \"kilometers\" :primary_area_unit \"hectares\")]\n",
    "  (Map :center [38 27] :zoom 6 :controls [dc mc] :extra-controls? nil :basemap :carto-db-dark-matter))"
   ]
  },
  {
   "cell_type": "markdown",
   "metadata": {},
   "source": [
    "**TODO:** search-control example."
   ]
  },
  {
   "cell_type": "markdown",
   "metadata": {},
   "source": [
    "### Markers\n",
    "\n",
    "Awesome-icon widget is not dynamic. You must refer to a new one to change it."
   ]
  },
  {
   "cell_type": "code",
   "execution_count": 22,
   "metadata": {},
   "outputs": [
    {
     "data": {
      "application/vnd.jupyter.widget-view+json": {
       "model_id": "96fdc902-a76e-4d85-ba3c-d06de0066cc0",
       "version_major": 2,
       "version_minor": 0
      },
      "text/plain": [
       "[96fdc902-a76e-4d85-ba3c-d06de0066cc0]=VBoxModel"
      ]
     },
     "execution_count": 22,
     "metadata": {},
     "output_type": "execute_result"
    }
   ],
   "source": [
    "(def-show M2\n",
    "  (let [loc [52.205 360.121]\n",
    "        ico (awesome-icon :name \"address-card\" :title \":boo\")\n",
    "        pin (marker :location loc :draggable true :rise_on_hover true :icon ico)\n",
    "        lab (old ipy/label {:value (str \"Pin at \" (:location @pin))})\n",
    "        m (Map :center loc :zoom 15 :layers [pin])\n",
    "        text (old ipy/text {:description \"Icon Tooltip\"})\n",
    "        _ (.watch text :on-change-value\n",
    "             (fn [_ _ {o-val :value} {n-val :value}]\n",
    "               (when (not= o-val n-val)\n",
    "                 (swap! ico assoc :name n-val))))\n",
    "        boolin (old ipy/checkbox {:description \"Spin?\"})\n",
    "        l0 (old ipy/directional-link {:source [boolin :value] :target [ico :spin]})\n",
    "        l1 (old ipy/directional-link {:source [text :value] :target [pin :title]})\n",
    "        _ (.watch pin :on-change-location (fn [_ _ {o-loc :location} {n-loc :location}]\n",
    "                                           (when (not= o-loc n-loc)\n",
    "                                             (swap! lab assoc :value (str \"Pin at \" (reduce conj [] (map (partial format \"%.4f\") n-loc)))))))\n",
    "        in-b (old ipy/h-box {:children [text boolin]})]\n",
    "  (old ipy/v-box {:children [in-b m lab]})))"
   ]
  },
  {
   "cell_type": "markdown",
   "metadata": {},
   "source": [
    "### Paths\n",
    "#### Ant-Path"
   ]
  },
  {
   "cell_type": "code",
   "execution_count": 23,
   "metadata": {},
   "outputs": [
    {
     "data": {
      "application/vnd.jupyter.widget-view+json": {
       "model_id": "a0d88fd9-5373-485a-a16f-cc66b2e3d323",
       "version_major": 2,
       "version_minor": 0
      },
      "text/plain": [
       "[a0d88fd9-5373-485a-a16f-cc66b2e3d323]=LeafletMapModel"
      ]
     },
     "execution_count": 23,
     "metadata": {},
     "output_type": "execute_result"
    }
   ],
   "source": [
    "(def-show M4\n",
    "  (let [ap [(ant-path :locations [[51.5 8] [52.5 12.1]] :use \"polyline\")\n",
    "            (ant-path :locations [[52 8] [52.5 8] [52.3 9]] :use \"polygon\" :dash-array [50 100] :weight 10 :color \"red\")\n",
    "            (ant-path :locations [[51.5 11] [52 12]] :use \"rectangle\" :dash_array [10 20] :weight 5 :color \"white\" :pulse_color \"green\")            \n",
    "            (ant-path :locations [51.5 10] :radius 15000 :use \"circle\" :dash_array [5 10] :weight 5 :color \"magenta\")]]\n",
    "   (Map :center [52 10] :zoom 8 :layers ap)))"
   ]
  },
  {
   "cell_type": "code",
   "execution_count": null,
   "metadata": {},
   "outputs": [],
   "source": []
  },
  {
   "cell_type": "markdown",
   "metadata": {},
   "source": [
    "#### Polylines"
   ]
  },
  {
   "cell_type": "code",
   "execution_count": 24,
   "metadata": {},
   "outputs": [
    {
     "data": {
      "application/vnd.jupyter.widget-view+json": {
       "model_id": "85c4a273-d1bc-4d15-ba8c-9f424dc1f8ac",
       "version_major": 2,
       "version_minor": 0
      },
      "text/plain": [
       "[85c4a273-d1bc-4d15-ba8c-9f424dc1f8ac]=VBoxModel"
      ]
     },
     "execution_count": 24,
     "metadata": {},
     "output_type": "execute_result"
    }
   ],
   "source": [
    "(let [p0 (polyline :locations [[45.51 -122.68] [37.77 -122.43] [34.04 -118.22]] :color \"green\" :fill false)\n",
    "      p1 (polyline :locations [[[45.51 -122.68] [37.77 -122.43] [34.04 -118.22]]\n",
    "                              [[40.78 -73.91] [41.83 -87.62] [32.76 -96.72]]]\n",
    "                  :color \"green\" :fill false)\n",
    "      p2 (polygon :locations [[42 -60] [48 -34] [32 -48]] :color \"green\" :fill_color \"green\")\n",
    "      p3 (polygon :locations [[[37 -109.05] [41 -109.03] [41 -102.05] [37 -102.04]]\n",
    "                             [[37.29 -108.58] [40.71 -108.58] [40.71 -102.50] [37.29 -102.50]]]\n",
    "                 :color \"green\" :fill_color \"green\")\n",
    "      p4 (rectangle :bounds [[52 -6] [53 0]])\n",
    "      p5 (circle :location [50 -6] :radius 5000 :color \"green\" :fill_color \"green\")\n",
    "      p6 (circle-marker :location [55 0] :radius 50 :color \"red\" :fill_color \"red\")\n",
    "      b-in (old ipy/toggle-buttons {:options [\"Polyline\" \"Multi-Polyline\" \"Polygon\" \"Multi-Polygon\" \"Rectangle\" \"Circle\" \"Circle-Marker\"]})\n",
    "      paths [p0 p1 p2 p3 p4 p5 p6]\n",
    "      switch-lay (fn [lays n-idx] (-> lays pop (conj (get paths n-idx))))\n",
    "      m (Map :center [42.5 -41] :zoom 3 :layers [p0])\n",
    "      _ (.watch b-in :on-change-index (fn [_ _ {o-idx :index} {n-idx :index}]\n",
    "                                        (when (not= o-idx n-idx)\n",
    "                                          (swap! m update :layers switch-lay n-idx))))]\n",
    "  (old ipy/v-box {:children [b-in m]}))"
   ]
  },
  {
   "cell_type": "code",
   "execution_count": null,
   "metadata": {},
   "outputs": [],
   "source": []
  },
  {
   "cell_type": "markdown",
   "metadata": {},
   "source": [
    "### Audio / Video Overlay"
   ]
  },
  {
   "cell_type": "code",
   "execution_count": 25,
   "metadata": {},
   "outputs": [
    {
     "data": {
      "application/vnd.jupyter.widget-view+json": {
       "model_id": "9756a8fd-cba0-4f87-a99e-b487bbd27955",
       "version_major": 2,
       "version_minor": 0
      },
      "text/plain": [
       "[9756a8fd-cba0-4f87-a99e-b487bbd27955]=LeafletMapModel"
      ]
     },
     "execution_count": 25,
     "metadata": {},
     "output_type": "execute_result"
    }
   ],
   "source": [
    "(let [v (video-overlay :url \"https://www.mapbox.com/bites/00188/patricia_nasa.webm\" :bounds [[13 -130] [32 -100]])\n",
    "      m (Map :center [23 -115] :zoom 4 :layers [v])]\n",
    "  m)"
   ]
  },
  {
   "cell_type": "markdown",
   "metadata": {},
   "source": [
    "---\n",
    "## Geo Data"
   ]
  },
  {
   "cell_type": "code",
   "execution_count": 26,
   "metadata": {},
   "outputs": [],
   "source": [
    "(def GEO-DATA (json/read-str (slurp \"./resources/data/world_bank/WB_countries_Admin0_lowres.geo.json\")))\n",
    "(def POP-MAP (reduce merge (map #(hash-map (get-in % [\"properties\" \"ISO_A3\"]) (get-in % [\"properties\" \"POP_EST\"])) (get GEO-DATA \"features\"))));"
   ]
  },
  {
   "cell_type": "markdown",
   "metadata": {},
   "source": [
    "Geo Data example uses pandas to load a dataset into memory. We need to identify its serial form to replicate on clojure side.\n",
    "\n",
    "### Geo-JSON"
   ]
  },
  {
   "cell_type": "code",
   "execution_count": 27,
   "metadata": {},
   "outputs": [
    {
     "data": {
      "application/vnd.jupyter.widget-view+json": {
       "model_id": "38b074a1-a76c-4a45-9656-47d7b1be9309",
       "version_major": 2,
       "version_minor": 0
      },
      "text/plain": [
       "[38b074a1-a76c-4a45-9656-47d7b1be9309]=VBoxModel"
      ]
     },
     "execution_count": 27,
     "metadata": {},
     "output_type": "execute_result"
    }
   ],
   "source": [
    "(def-show M3\n",
    "  (let [lab (old ipy/label)\n",
    "        h (fn [_ msg _] (swap! lab assoc :value (get-in msg [:properties :WB_NAME] \"\")))\n",
    "        l (geo-json :data (clojure.walk/keywordize-keys GEO-DATA) :hover_style {:fillColor \"red\"} :callbacks {:on-mouseover h}\n",
    "                     :style {:color \"grey\" :weight 1 :fillColor \"lightyellow\" :fillOpacity 0.7})\n",
    "        m (Map :center [48.4 17.45] :zoom 4 :basemap :open-stree-map-black-and-white :layers [l] :tooltip lab)]\n",
    "  (old ipy/v-box {:children [m lab]})))"
   ]
  },
  {
   "cell_type": "code",
   "execution_count": null,
   "metadata": {
    "scrolled": true
   },
   "outputs": [],
   "source": []
  },
  {
   "cell_type": "markdown",
   "metadata": {},
   "source": [
    "### Choropleth\n",
    "Choropleth model is a geo-json with custom coloring based on some data.\n",
    "Python model has external dependency for choosing the colours."
   ]
  },
  {
   "cell_type": "code",
   "execution_count": 28,
   "metadata": {},
   "outputs": [
    {
     "data": {
      "application/vnd.jupyter.widget-view+json": {
       "model_id": "0d287fb8-f636-4266-8215-5085c275bcf0",
       "version_major": 2,
       "version_minor": 0
      },
      "text/plain": [
       "[0d287fb8-f636-4266-8215-5085c275bcf0]=LeafletMapModel"
      ]
     },
     "execution_count": 28,
     "metadata": {},
     "output_type": "execute_result"
    }
   ],
   "source": [
    "(def-show M5\n",
    "  (let [lab (old ipy/label)\n",
    "        c (choropleth :data GEO-DATA :_data POP-MAP :key-path [:properties :ISO_A3]\n",
    "                      :style {:fillOpacity 0.3 :dashArray \"5, 5\"}\n",
    "                      :callbacks {:on-mouseover (fn [ref {{name :WB_NAME id :ISO_A3} :properties} _]\n",
    "                                                  (swap! lab assoc :value (format \"%s. Population: %,d\" name (get (:_data @ref) id))))})]\n",
    "    (Map :layers [c] :zoom 2 :center [50 20] :scroll_wheel_zoom true\n",
    "         :controls [(widget-control :widget lab :position \"topright\")])))"
   ]
  },
  {
   "cell_type": "code",
   "execution_count": null,
   "metadata": {},
   "outputs": [],
   "source": []
  },
  {
   "cell_type": "code",
   "execution_count": 29,
   "metadata": {},
   "outputs": [
    {
     "data": {
      "text/plain": [
       "#'user/tt0"
      ]
     },
     "execution_count": 29,
     "metadata": {},
     "output_type": "execute_result"
    }
   ],
   "source": [
    "(def tt0 (System/currentTimeMillis))"
   ]
  },
  {
   "cell_type": "code",
   "execution_count": 30,
   "metadata": {},
   "outputs": [
    {
     "data": {
      "application/vnd.jupyter.widget-view+json": {
       "model_id": "0eeb1480-18d2-405a-aab2-3086e428ecf0",
       "version_major": 2,
       "version_minor": 0
      },
      "text/plain": [
       "[0eeb1480-18d2-405a-aab2-3086e428ecf0]=LeafletMapModel"
      ]
     },
     "execution_count": 30,
     "metadata": {},
     "output_type": "execute_result"
    }
   ],
   "source": [
    "(let [v-max (reduce max (vals POP-MAP))\n",
    "      v-min (reduce min (vals POP-MAP))\n",
    "      col-fn (single-hue-linear-fn v-min v-max \"#D61717\")\n",
    "      lab (old ipy/label)\n",
    "      c (choropleth :data GEO-DATA :_data POP-MAP :style {:fillOpacity 0.6 :dashArray \"5, 5\"}\n",
    "                    :key-path [:properties :ISO_A3]\n",
    "                    :color-fn (fn [m] (single-hue-linear-fn (reduce min (vals m))\n",
    "                                                            (reduce max (vals m))\n",
    "                                                            \"#D61717\"))\n",
    "                    :callbacks {:on-mouseover (fn [_ {{name :WB_NAME id :ISO_A3} :properties} _]\n",
    "                                                (swap! lab assoc :value (format \"Population %s: %,d\" name (get POP-MAP id))))})\n",
    "      leg-k (take 8 (iterate (partial + (quot (- v-max v-min) 7)) v-min))\n",
    "      leg (legend-control :position \"bottomleft\" :legend (zipmap leg-k (map col-fn leg-k)))\n",
    "      m (Map :layers [c] :center [45 90] :zoom 3 :scroll_wheel_zoom true \n",
    "             :controls [(full-screen-control) (widget-control :widget lab :position \"topright\") leg])]\n",
    "  m)  "
   ]
  },
  {
   "cell_type": "markdown",
   "metadata": {},
   "source": [
    "### Heatmap"
   ]
  },
  {
   "cell_type": "code",
   "execution_count": 31,
   "metadata": {},
   "outputs": [
    {
     "data": {
      "text/plain": [
       "#'user/tt1"
      ]
     },
     "execution_count": 31,
     "metadata": {},
     "output_type": "execute_result"
    }
   ],
   "source": [
    "(def tt1 (System/currentTimeMillis))"
   ]
  },
  {
   "cell_type": "code",
   "execution_count": 32,
   "metadata": {},
   "outputs": [
    {
     "data": {
      "text/plain": [
       "2386"
      ]
     },
     "execution_count": 32,
     "metadata": {},
     "output_type": "execute_result"
    }
   ],
   "source": [
    "(- tt1 tt0)"
   ]
  },
  {
   "cell_type": "code",
   "execution_count": 33,
   "metadata": {},
   "outputs": [
    {
     "data": {
      "application/vnd.jupyter.widget-view+json": {
       "model_id": "3131167d-014f-4d47-b302-75720ec76f3d",
       "version_major": 2,
       "version_minor": 0
      },
      "text/plain": [
       "[3131167d-014f-4d47-b302-75720ec76f3d]=LeafletMapModel"
      ]
     },
     "execution_count": 33,
     "metadata": {},
     "output_type": "execute_result"
    }
   ],
   "source": [
    "(let [loc (vec (repeatedly 1000 #(vector (- (rand 160) 80) (- (rand 360) 180) (rand 1000))))\n",
    "      hm (heatmap :locations loc :radius 20 :opacity 0.9)\n",
    "      m (Map :center [0 0] :zoom 2 :extra-controls? false :layers [hm])]\n",
    " m)"
   ]
  },
  {
   "cell_type": "markdown",
   "metadata": {},
   "source": [
    "### Velocity\n",
    "**TODO:**"
   ]
  },
  {
   "cell_type": "markdown",
   "metadata": {},
   "source": [
    "---\n",
    "## Conclusions"
   ]
  },
  {
   "cell_type": "markdown",
   "metadata": {},
   "source": [
    "### Layer Groups / Marker Clusters\n",
    "\n",
    "Do we need them? Can we use a simple collection of layers/markers?\n",
    "\n",
    "### Abstract Classes\n",
    "\n",
    "control, feature-group, layer, layers-control, path, raster-layer, ui-layer, vector-layer, vector-tile-layer, Layout and dom-widgets look like abstract classes. Does it make sense to keep them on clojure side?"
   ]
  },
  {
   "cell_type": "markdown",
   "metadata": {},
   "source": [
    "----\n",
    "## Debug"
   ]
  },
  {
   "cell_type": "code",
   "execution_count": 34,
   "metadata": {},
   "outputs": [
    {
     "data": {},
     "execution_count": 34,
     "metadata": {},
     "output_type": "execute_result"
    }
   ],
   "source": [
    "#_(taoensso.timbre/set-level! :debug)"
   ]
  },
  {
   "cell_type": "code",
   "execution_count": 35,
   "metadata": {},
   "outputs": [
    {
     "data": {},
     "execution_count": 35,
     "metadata": {},
     "output_type": "execute_result"
    }
   ],
   "source": [
    "#_(let [p (polyline :locations [[[45.51 -122.68] [37.77 -122.43] [34.04 -118.22]]\n",
    "                              [[40.78 -73.91] [41.83 -87.62] [32.76 -96.72]]]\n",
    "                  :color \"green\" :fill false)\n",
    "      m (Map :center [42.5 -41] :zoom 2 :options [:center :zoom] :layers [(tile-layer) p])]\n",
    "  m)"
   ]
  },
  {
   "cell_type": "code",
   "execution_count": 36,
   "metadata": {},
   "outputs": [
    {
     "data": {},
     "execution_count": 36,
     "metadata": {},
     "output_type": "execute_result"
    }
   ],
   "source": [
    "#_(let [p (polygon :locations [[42 -49] [43 -49] [43 -48]] :color \"green\" :fill_color \"green\")\n",
    "      m (Map :center [42.5531 -48.6914] :zoom 6 :options [:center :zoom] :layers [(tile-layer) p])]\n",
    "  m)"
   ]
  },
  {
   "cell_type": "code",
   "execution_count": 37,
   "metadata": {},
   "outputs": [
    {
     "data": {},
     "execution_count": 37,
     "metadata": {},
     "output_type": "execute_result"
    }
   ],
   "source": [
    "#_(let [p (polygon :locations [[[37 -109.05] [41 -109.03] [41 -102.05] [37 -102.04]]\n",
    "                             [[37.29 -108.58] [40.71 -108.58] [40.71 -102.50] [37.29 -102.50]]]\n",
    "                 :color \"green\" :fill_color \"green\")\n",
    "      m (Map :center [37.5531 -109.6914] :zoom 5 :options [:center :zoom] :layers [(tile-layer) p])]\n",
    "  m)"
   ]
  },
  {
   "cell_type": "code",
   "execution_count": 38,
   "metadata": {},
   "outputs": [
    {
     "data": {},
     "execution_count": 38,
     "metadata": {},
     "output_type": "execute_result"
    }
   ],
   "source": [
    "#_(let [pr (rectangle :bounds [[52 354] [53 360]])\n",
    "      pc (circle :location [50 354] :radius 50 :color \"green\" :fill_color \"green\")\n",
    "      m (Map :center [53 354] :zoom 5 :options [:center :zoom] :layers [(tile-layer) pr pc])]\n",
    "  m)"
   ]
  },
  {
   "cell_type": "code",
   "execution_count": 39,
   "metadata": {},
   "outputs": [
    {
     "data": {},
     "execution_count": 39,
     "metadata": {},
     "output_type": "execute_result"
    }
   ],
   "source": [
    "#_(let [cm (circle-marker :location [55 360] :radius 50 :color \"red\" :fill_color \"red\")\n",
    "      m (Map :center [53 354] :zoom 5 :options [:center :zoom] :layers [(tile-layer) cm])]\n",
    "  m)"
   ]
  },
  {
   "cell_type": "code",
   "execution_count": null,
   "metadata": {},
   "outputs": [],
   "source": []
  },
  {
   "cell_type": "code",
   "execution_count": null,
   "metadata": {
    "scrolled": true
   },
   "outputs": [],
   "source": []
  },
  {
   "cell_type": "code",
   "execution_count": 40,
   "metadata": {
    "scrolled": true
   },
   "outputs": [
    {
     "data": {},
     "execution_count": 40,
     "metadata": {},
     "output_type": "execute_result"
    }
   ],
   "source": [
    "#_(->> [(ant-path :locations [[51.5 8] [52.5 12.1]] :use \"polyline\" :options [:use])\n",
    "      (ant-path :locations [[52 8] [52.5 8] [52.3 9]] :use \"polygon\" :dash-array [50 100] :weight 10 :color \"red\")\n",
    "      (ant-path :locations [[51.5 11] [52 12]] :use \"rectangle\" :dash_array [10 20] :weight 5 :color \"white\" :pulse_color \"green\")\n",
    "      (ant-path :locations [51.5 10] :radius 15000 :use \"circle\" :dash_array [5 10] :weight 5 :color \"magenta\")]\n",
    "     last\n",
    "     (swap! M3 update :layers conj))"
   ]
  },
  {
   "cell_type": "code",
   "execution_count": 41,
   "metadata": {
    "scrolled": true
   },
   "outputs": [
    {
     "data": {},
     "execution_count": 41,
     "metadata": {},
     "output_type": "execute_result"
    }
   ],
   "source": [
    "#_(clojure.pprint/pprint\n",
    " (filter string?\n",
    "   (for [{n \"name\" att \"attributes\"} SPECS\n",
    "         {a-name \"name\" a-type \"type\" nilable? \"allow_none\"} att]\n",
    "     (when (= a-type \"reference\")\n",
    "       (str \"Reference found on widget \" n \", attribute \" a-name \", nilable? \" nilable?)))))"
   ]
  },
  {
   "cell_type": "code",
   "execution_count": null,
   "metadata": {
    "scrolled": true
   },
   "outputs": [],
   "source": []
  },
  {
   "cell_type": "code",
   "execution_count": null,
   "metadata": {},
   "outputs": [],
   "source": []
  },
  {
   "cell_type": "code",
   "execution_count": null,
   "metadata": {},
   "outputs": [],
   "source": []
  }
 ],
 "metadata": {
  "kernelspec": {
   "display_name": "Clojure (clojupyter-0.3.3-snapshot)",
   "language": "clojure",
   "name": "clojupyter-0.3.3-snapshot"
  },
  "language_info": {
   "file_extension": ".clj",
   "mimetype": "text/x-clojure",
   "name": "clojure",
   "version": "1.10.1"
  }
 },
 "nbformat": 4,
 "nbformat_minor": 4
}
